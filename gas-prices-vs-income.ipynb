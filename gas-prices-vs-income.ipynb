{
 "cells": [
  {
   "cell_type": "markdown",
   "metadata": {},
   "source": [
    "### Is gas more expensive in poor neighborhoods?"
   ]
  },
  {
   "cell_type": "code",
   "execution_count": 1,
   "metadata": {
    "collapsed": false
   },
   "outputs": [],
   "source": [
    "from bs4 import BeautifulSoup\n",
    "import requests\n",
    "import pandas as pd\n",
    "import numpy as np\n",
    "import seaborn as sns\n",
    "from scipy.stats import pearsonr\n",
    "%matplotlib inline"
   ]
  },
  {
   "cell_type": "code",
   "execution_count": 127,
   "metadata": {
    "collapsed": false
   },
   "outputs": [],
   "source": [
    "def _parse(formatted_row):\n",
    "    s= str(formatted_row[1])\n",
    "    start = s.find(\"$\") + 1\n",
    "    end = start + 4\n",
    "    price = s[start:end]\n",
    "    while not price[-1].isdigit():\n",
    "        price = price[:len(price)-1]\n",
    "    price = float(price)\n",
    "    start = s.find(\"located at\") + len(\"located at\") + 1\n",
    "    end = s.find(\"border\") - 2\n",
    "    address = s[start:end]\n",
    "    return price, address\n",
    "\n",
    "def _extract_zip(address):\n",
    "    try:\n",
    "        zp = int(address.strip()[-5:])\n",
    "    except ValueError:\n",
    "        zp = -1\n",
    "    return zp\n",
    "        \n",
    "\n",
    "def get_gas_prices(city, state, npages):\n",
    "    urls = map(lambda x: \"http://www.gaspricewatch.com/%s/%s/gas-prices/page-%d/2.htm\" % \\\n",
    "               (state, city, x), range(1, npages+1))\n",
    "    responses = [requests.get(url) for url in urls]\n",
    "    soups = [BeautifulSoup(page.content, \"lxml\") for page in responses]\n",
    "    try:\n",
    "        summary = \" \".join(city.split(\"-\")) + \", \" + state[0:2] + \" Lowest Regular Gas Prices\"\n",
    "\n",
    "        rows=list()\n",
    "        for i in xrange(len(soups)):\n",
    "            tbl = soups[i].find(\"table\", summary=summary)\n",
    "            for row in tbl.findAll(\"tr\"):\n",
    "                rows.append(row)\n",
    "        header_idx = [0 + 21*k for k in xrange(0, npages)]\n",
    "        rows = [rows[i] for i in xrange(len(rows)) if i not in header_idx]\n",
    "\n",
    "        formatted_rows = list()\n",
    "        for row in rows:\n",
    "            formatted_rows.append(row.findAll(\"td\"))\n",
    "        gas_prices = pd.DataFrame(map(_parse, formatted_rows))\n",
    "        gas_prices.rename(columns={0:\"gas_price\", 1:\"address\"}, inplace=True)\n",
    "        gas_prices[\"ZIP5\"] = map(_extract_zip, gas_prices.address)\n",
    "        return gas_prices\n",
    "    except ValueError:\n",
    "        return soups"
   ]
  },
  {
   "cell_type": "code",
   "execution_count": 71,
   "metadata": {
    "collapsed": false,
    "scrolled": false
   },
   "outputs": [
    {
     "name": "stdout",
     "output_type": "stream",
     "text": [
      "Los Angeles, CA Lowest Regular Gas Prices\n"
     ]
    }
   ],
   "source": [
    "gas_prices_LA = get_gas_prices(\"Los-Angeles\", \"CA-california\", 15)"
   ]
  },
  {
   "cell_type": "code",
   "execution_count": 72,
   "metadata": {
    "collapsed": false
   },
   "outputs": [
    {
     "name": "stdout",
     "output_type": "stream",
     "text": [
      "Oakland, CA Lowest Regular Gas Prices\n",
      "   gas_price                               address   ZIP5\n",
      "0       2.53         720 High St,Oakland, CA,94601  94601\n",
      "1       2.55  2200 Telegraph Ave,Oakland, CA,94612  94612\n",
      "2       2.57  566 Hegenberger Rd,Oakland, CA,94621  94621\n",
      "3       2.57   3132 Beaumont Ave,Oakland, CA,94602  94602\n",
      "4       2.57       3130 35th Ave,Oakland, CA,94619  94619\n"
     ]
    }
   ],
   "source": [
    "gas_prices_OAK = get_gas_prices(\"Oakland\", \"CA-california\", 4)\n",
    "gas_prices_OAK.head()"
   ]
  },
  {
   "cell_type": "code",
   "execution_count": 128,
   "metadata": {
    "collapsed": false
   },
   "outputs": [
    {
     "data": {
      "text/html": [
       "<div>\n",
       "<table border=\"1\" class=\"dataframe\">\n",
       "  <thead>\n",
       "    <tr style=\"text-align: right;\">\n",
       "      <th></th>\n",
       "      <th>gas_price</th>\n",
       "      <th>address</th>\n",
       "      <th>ZIP5</th>\n",
       "    </tr>\n",
       "  </thead>\n",
       "  <tbody>\n",
       "    <tr>\n",
       "      <th>0</th>\n",
       "      <td>1.48</td>\n",
       "      <td>1710 FM-528,Houston, TX,77073</td>\n",
       "      <td>77073</td>\n",
       "    </tr>\n",
       "    <tr>\n",
       "      <th>1</th>\n",
       "      <td>1.55</td>\n",
       "      <td>7805 S Sam Houston Pkwy E,Houston, TX,77075</td>\n",
       "      <td>77075</td>\n",
       "    </tr>\n",
       "    <tr>\n",
       "      <th>2</th>\n",
       "      <td>1.55</td>\n",
       "      <td>7745 S Sam Houston Pkwy W,Houston, TX,77085</td>\n",
       "      <td>77085</td>\n",
       "    </tr>\n",
       "    <tr>\n",
       "      <th>3</th>\n",
       "      <td>1.56</td>\n",
       "      <td>9705 Telephone Rd (#A),Houston, TX,77075</td>\n",
       "      <td>77075</td>\n",
       "    </tr>\n",
       "    <tr>\n",
       "      <th>4</th>\n",
       "      <td>1.56</td>\n",
       "      <td>9105 Telephone Rd,Houston, TX,77075</td>\n",
       "      <td>77075</td>\n",
       "    </tr>\n",
       "  </tbody>\n",
       "</table>\n",
       "</div>"
      ],
      "text/plain": [
       "   gas_price                                           address   ZIP5\n",
       "0       1.48                     1710 FM-528,Houston, TX,77073  77073\n",
       "1       1.55       7805 S Sam Houston Pkwy E,Houston, TX,77075  77075\n",
       "2       1.55  7745 S Sam Houston Pkwy W,Houston, TX,77085       77085\n",
       "3       1.56          9705 Telephone Rd (#A),Houston, TX,77075  77075\n",
       "4       1.56               9105 Telephone Rd,Houston, TX,77075  77075"
      ]
     },
     "execution_count": 128,
     "metadata": {},
     "output_type": "execute_result"
    }
   ],
   "source": [
    "gas_prices_Houston = get_gas_prices(\"Houston\", \"TX-Texas\", 41)\n",
    "gas_prices_Houston.head()"
   ]
  },
  {
   "cell_type": "code",
   "execution_count": 129,
   "metadata": {
    "collapsed": false
   },
   "outputs": [
    {
     "data": {
      "text/plain": [
       "<matplotlib.axes._subplots.AxesSubplot at 0x11af1bb10>"
      ]
     },
     "execution_count": 129,
     "metadata": {},
     "output_type": "execute_result"
    },
    {
     "data": {
      "image/png": "[encoded data removed]",
      "text/plain": [
       "<matplotlib.figure.Figure at 0x116805b90>"
      ]
     },
     "metadata": {},
     "output_type": "display_data"
    }
   ],
   "source": [
    "sns.distplot(gas_prices_Houston.gas_price)"
   ]
  },
  {
   "cell_type": "code",
   "execution_count": 47,
   "metadata": {
    "collapsed": false
   },
   "outputs": [
    {
     "data": {
      "text/html": [
       "<div>\n",
       "<table border=\"1\" class=\"dataframe\">\n",
       "  <thead>\n",
       "    <tr style=\"text-align: right;\">\n",
       "      <th></th>\n",
       "      <th>Id2</th>\n",
       "      <th>Geography</th>\n",
       "      <th>median_income</th>\n",
       "    </tr>\n",
       "  </thead>\n",
       "  <tbody>\n",
       "    <tr>\n",
       "      <th>1</th>\n",
       "      <td>89010</td>\n",
       "      <td>ZCTA5 89010</td>\n",
       "      <td>35000.0</td>\n",
       "    </tr>\n",
       "    <tr>\n",
       "      <th>2</th>\n",
       "      <td>89019</td>\n",
       "      <td>ZCTA5 89019</td>\n",
       "      <td>37632.0</td>\n",
       "    </tr>\n",
       "    <tr>\n",
       "      <th>3</th>\n",
       "      <td>89060</td>\n",
       "      <td>ZCTA5 89060</td>\n",
       "      <td>40726.0</td>\n",
       "    </tr>\n",
       "    <tr>\n",
       "      <th>4</th>\n",
       "      <td>89061</td>\n",
       "      <td>ZCTA5 89061</td>\n",
       "      <td>55096.0</td>\n",
       "    </tr>\n",
       "    <tr>\n",
       "      <th>5</th>\n",
       "      <td>89439</td>\n",
       "      <td>ZCTA5 89439</td>\n",
       "      <td>59275.0</td>\n",
       "    </tr>\n",
       "  </tbody>\n",
       "</table>\n",
       "</div>"
      ],
      "text/plain": [
       "     Id2    Geography  median_income\n",
       "1  89010  ZCTA5 89010        35000.0\n",
       "2  89019  ZCTA5 89019        37632.0\n",
       "3  89060  ZCTA5 89060        40726.0\n",
       "4  89061  ZCTA5 89061        55096.0\n",
       "5  89439  ZCTA5 89439        59275.0"
      ]
     },
     "execution_count": 47,
     "metadata": {},
     "output_type": "execute_result"
    }
   ],
   "source": [
    "# get median income from Census\n",
    "census_data = pd.read_csv(\"/Users/timothysweetser/git/gas_prices/raw_data/ACS_14_5YR_DP03_with_ann.csv\",\n",
    "                                   usecols=[\"HC01_VC85\", \"GEO.id2\", \"GEO.display-label\"],\n",
    "                          low_memory=False)\n",
    "census_data.rename(columns=dict(zip(census_data.columns, census_data.ix[0, :])), inplace=True)\n",
    "census_data.rename(columns={census_data.columns[-1]:\"median_income\"}, inplace=True)\n",
    "census_data.drop([0], axis=0, inplace=True)\n",
    "census_data[\"Id2\"] = census_data[\"Id2\"].astype(int)\n",
    "census_data[\"median_income\"] = [x if x != \"-\" else np.nan for x in census_data[\"median_income\"]]\n",
    "census_data[\"median_income\"] = census_data[\"median_income\"].astype(float)\n",
    "census_data.head()"
   ]
  },
  {
   "cell_type": "code",
   "execution_count": 48,
   "metadata": {
    "collapsed": false
   },
   "outputs": [
    {
     "data": {
      "text/plain": [
       "True"
      ]
     },
     "execution_count": 48,
     "metadata": {},
     "output_type": "execute_result"
    }
   ],
   "source": [
    "# Zip uniquely identifies each row\n",
    "census_data.Id2.nunique() == len(census_data)"
   ]
  },
  {
   "cell_type": "code",
   "execution_count": 49,
   "metadata": {
    "collapsed": false
   },
   "outputs": [],
   "source": [
    "gas_prices = gas_prices.merge(census_data, 'inner', left_on=\"ZIP5\", right_on=\"Id2\")\n",
    "gas_prices = gas_prices[gas_prices[\"median_income\"] < 110000] \n",
    "# exclude 1 very high income ZIP code"
   ]
  },
  {
   "cell_type": "code",
   "execution_count": 50,
   "metadata": {
    "collapsed": false
   },
   "outputs": [
    {
     "data": {
      "text/plain": [
       "<matplotlib.axes._subplots.AxesSubplot at 0x117fd9e10>"
      ]
     },
     "execution_count": 50,
     "metadata": {},
     "output_type": "execute_result"
    },
    {
     "data": {
      "image/png": "[encoded data removed]",
      "text/plain": [
       "<matplotlib.figure.Figure at 0x117f32390>"
      ]
     },
     "metadata": {},
     "output_type": "display_data"
    }
   ],
   "source": [
    "sns.regplot(\"median_income\", \"gas_price\", data=gas_prices)"
   ]
  },
  {
   "cell_type": "code",
   "execution_count": 51,
   "metadata": {
    "collapsed": false
   },
   "outputs": [
    {
     "data": {
      "text/plain": [
       "(0.17772278027306065, 0.0025575217583544011)"
      ]
     },
     "execution_count": 51,
     "metadata": {},
     "output_type": "execute_result"
    }
   ],
   "source": [
    "pearsonr(gas_prices[\"median_income\"], gas_prices[\"gas_price\"])"
   ]
  },
  {
   "cell_type": "code",
   "execution_count": 52,
   "metadata": {
    "collapsed": false
   },
   "outputs": [],
   "source": [
    "import statsmodels.api as sm\n",
    "from statsmodels.formula.api import ols"
   ]
  },
  {
   "cell_type": "code",
   "execution_count": 54,
   "metadata": {
    "collapsed": false
   },
   "outputs": [
    {
     "name": "stdout",
     "output_type": "stream",
     "text": [
      "                            OLS Regression Results                            \n",
      "==============================================================================\n",
      "Dep. Variable:              gas_price   R-squared:                       0.032\n",
      "Model:                            OLS   Adj. R-squared:                  0.028\n",
      "Method:                 Least Squares   F-statistic:                     9.263\n",
      "Date:                Sat, 04 Jun 2016   Prob (F-statistic):            0.00256\n",
      "Time:                        15:16:43   Log-Likelihood:                 107.88\n",
      "No. Observations:                 286   AIC:                            -211.8\n",
      "Df Residuals:                     284   BIC:                            -204.5\n",
      "Df Model:                           1                                         \n",
      "Covariance Type:            nonrobust                                         \n",
      "=================================================================================\n",
      "                    coef    std err          t      P>|t|      [95.0% Conf. Int.]\n",
      "---------------------------------------------------------------------------------\n",
      "Intercept         2.7153      0.028     98.526      0.000         2.661     2.770\n",
      "median_income  1.776e-06   5.84e-07      3.043      0.003      6.28e-07  2.93e-06\n",
      "==============================================================================\n",
      "Omnibus:                        8.265   Durbin-Watson:                   1.156\n",
      "Prob(Omnibus):                  0.016   Jarque-Bera (JB):                8.196\n",
      "Skew:                           0.406   Prob(JB):                       0.0166\n",
      "Kurtosis:                       3.164   Cond. No.                     1.32e+05\n",
      "==============================================================================\n",
      "\n",
      "Warnings:\n",
      "[1] Standard Errors assume that the covariance matrix of the errors is correctly specified.\n",
      "[2] The condition number is large, 1.32e+05. This might indicate that there are\n",
      "strong multicollinearity or other numerical problems.\n"
     ]
    }
   ],
   "source": [
    "mod = ols(\"gas_price ~ median_income\", data=gas_prices).fit()\n",
    "print mod.summary()"
   ]
  },
  {
   "cell_type": "code",
   "execution_count": 58,
   "metadata": {
    "collapsed": false
   },
   "outputs": [
    {
     "data": {
      "text/plain": [
       "<matplotlib.axes._subplots.AxesSubplot at 0x118e1ce50>"
      ]
     },
     "execution_count": 58,
     "metadata": {},
     "output_type": "execute_result"
    },
    {
     "data": {
      "image/png": "[encoded data removed]",
      "text/plain": [
       "<matplotlib.figure.Figure at 0x118aeac10>"
      ]
     },
     "metadata": {},
     "output_type": "display_data"
    }
   ],
   "source": [
    "sns.regplot(gas_prices[\"median_income\"], mod.resid)"
   ]
  },
  {
   "cell_type": "code",
   "execution_count": null,
   "metadata": {
    "collapsed": true
   },
   "outputs": [],
   "source": []
  }
 ],
 "metadata": {
  "kernelspec": {
   "display_name": "Python 2",
   "language": "python",
   "name": "python2"
  },
  "language_info": {
   "codemirror_mode": {
    "name": "ipython",
    "version": 2
   },
   "file_extension": ".py",
   "mimetype": "text/x-python",
   "name": "python",
   "nbconvert_exporter": "python",
   "pygments_lexer": "ipython2",
   "version": "2.7.10"
  }
 },
 "nbformat": 4,
 "nbformat_minor": 0
}
